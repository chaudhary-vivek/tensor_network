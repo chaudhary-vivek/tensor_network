{
 "cells": [
  {
   "cell_type": "code",
   "execution_count": 5,
   "metadata": {},
   "outputs": [],
   "source": [
    "import numpy as np\n",
    "from itertools import product"
   ]
  },
  {
   "cell_type": "code",
   "execution_count": 6,
   "metadata": {},
   "outputs": [
    {
     "name": "stdout",
     "output_type": "stream",
     "text": [
      "Brute Force Max-Cut Partition for Graph 1: 4 with value: ({0, 3}, {1, 2}) assignment  [-1, 1, 1, -1]\n",
      "Brute Force Max-Cut Partition for Graph 2: 7 with value: ({0, 2}, {1, 3}) assignment  [-1, 1, -1, 1]\n",
      "Brute Force Max-Cut Partition for Graph 3: 6 with value: ({0, 3}, {1, 2, 4}) assignment  [-1, 1, 1, -1, 1]\n",
      "Brute Force Max-Cut Partition for Graph 4: 18 with value: ({0, 2, 5}, {1, 3, 4}) assignment  [-1, 1, -1, 1, 1, -1]\n",
      "Brute Force Max-Cut Partition for Graph 5: 23 with value: ({0, 3, 4, 6}, {1, 2, 5}) assignment  [-1, 1, 1, -1, -1, 1, -1]\n"
     ]
    }
   ],
   "source": [
    "def max_cut_brute_force(adj_matrix: np.ndarray):\n",
    "    \"\"\"\n",
    "    Finds the maximum cut of an undirected graph using brute force.\n",
    "    \n",
    "    Parameters:\n",
    "        adj_matrix (np.ndarray): The adjacency matrix of the graph.\n",
    "    \n",
    "    Returns:\n",
    "        tuple: (max_cut_value, best_partition, partition_list), where max_cut_value is the weight of the max cut,\n",
    "               best_partition is a tuple of two sets representing the partition of nodes,\n",
    "               and partition_list is a list containing -1 for elements in set A and 1 for elements in set B.\n",
    "    \"\"\"\n",
    "    n = adj_matrix.shape[0]  # Number of nodes\n",
    "    max_cut_value = 0\n",
    "    best_partition = (set(), set())\n",
    "    best_assignment = []\n",
    "    \n",
    "    # Iterate through all possible binary assignments (except all 0s and all 1s)\n",
    "    for assignment in product([0, 1], repeat=n):\n",
    "        set_A = {i for i in range(n) if assignment[i] == 0}\n",
    "        set_B = {i for i in range(n) if assignment[i] == 1}\n",
    "        \n",
    "        cut_value = sum(\n",
    "            adj_matrix[i, j] for i in set_A for j in set_B if adj_matrix[i, j] > 0\n",
    "        )\n",
    "        \n",
    "        if cut_value > max_cut_value:\n",
    "            max_cut_value = cut_value\n",
    "            best_partition = (set_A, set_B)\n",
    "            best_assignment = [-1 if i in set_A else 1 for i in range(n)]\n",
    "    \n",
    "    return max_cut_value, best_partition, best_assignment\n",
    "\n",
    "\n",
    "\n",
    "# Example usage\n",
    "adj_matrices = [\n",
    "    np.array([\n",
    "        [0, 1, 1, 1],\n",
    "        [1, 0, 0, 1],\n",
    "        [1, 0, 0, 1],\n",
    "        [1, 1, 1, 0]\n",
    "    ]),\n",
    "    np.array([\n",
    "        [0, 2, 0, 1],\n",
    "        [2, 0, 3, 0],\n",
    "        [0, 3, 0, 1],\n",
    "        [1, 0, 1, 0]\n",
    "    ]),\n",
    "    np.array([\n",
    "        [0, 1, 1, 0, 1],\n",
    "        [1, 0, 0, 1, 0],\n",
    "        [1, 0, 0, 1, 1],\n",
    "        [0, 1, 1, 0, 1],\n",
    "        [1, 0, 1, 1, 0]\n",
    "    ]),\n",
    "    np.array([\n",
    "        [0, 3, 1, 0, 2, 0],\n",
    "        [3, 0, 2, 1, 0, 3],\n",
    "        [1, 2, 0, 3, 1, 0],\n",
    "        [0, 1, 3, 0, 2, 1],\n",
    "        [2, 0, 1, 2, 0, 3],\n",
    "        [0, 3, 0, 1, 3, 0]\n",
    "    ]),\n",
    "    np.array([\n",
    "        [0, 1, 2, 1, 0, 3, 0],\n",
    "        [1, 0, 1, 0, 2, 0, 3],\n",
    "        [2, 1, 0, 3, 1, 0, 2],\n",
    "        [1, 0, 3, 0, 1, 2, 0],\n",
    "        [0, 2, 1, 1, 0, 3, 1],\n",
    "        [3, 0, 0, 2, 3, 0, 1],\n",
    "        [0, 3, 2, 0, 1, 1, 0]\n",
    "    ])\n",
    "]\n",
    "\n",
    "for i, adj_matrix in enumerate(adj_matrices):\n",
    "    cut, value, assignment = max_cut_brute_force(adj_matrix)\n",
    "    print(f\"Brute Force Max-Cut Partition for Graph {i+1}:\", cut, \"with value:\", value, 'assignment ', assignment)\n",
    "\n"
   ]
  }
 ],
 "metadata": {
  "kernelspec": {
   "display_name": "Python 3",
   "language": "python",
   "name": "python3"
  },
  "language_info": {
   "codemirror_mode": {
    "name": "ipython",
    "version": 3
   },
   "file_extension": ".py",
   "mimetype": "text/x-python",
   "name": "python",
   "nbconvert_exporter": "python",
   "pygments_lexer": "ipython3",
   "version": "3.12.0"
  }
 },
 "nbformat": 4,
 "nbformat_minor": 2
}
