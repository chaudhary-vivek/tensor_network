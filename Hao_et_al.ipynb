{
 "cells": [
  {
   "cell_type": "code",
   "execution_count": 3,
   "metadata": {},
   "outputs": [],
   "source": [
    "from qiskit.quantum_info import Pauli, SparsePauliOp\n"
   ]
  },
  {
   "cell_type": "markdown",
   "metadata": {},
   "source": [
    "\n",
    "\n",
    "$$\\hat{H} = \\sum_{\\mathbf{x}\\in\\{0,1\\}^n} a_\\mathbf{x}|\\mathbf{x}\\rangle\\langle\\mathbf{x}|$$\n",
    "\n",
    "Where:\n",
    "- $\\hat{H}$ is the Hamiltonian operator that encodes our combinatorial optimization problem\n",
    "- $\\mathbf{x}$ represents a binary string of length $n$, corresponding to a possible solution\n",
    "- $\\{0,1\\}^n$ is the set of all possible binary strings of length $n$\n",
    "- $a_\\mathbf{x}$ are real coefficients representing the objective function values (typically $a_\\mathbf{x} = -f(\\mathbf{x})$)\n",
    "- $|\\mathbf{x}\\rangle$ is the quantum state corresponding to the binary string $\\mathbf{x}$\n",
    "- $|\\mathbf{x}\\rangle\\langle\\mathbf{x}|$ is a projection operator onto the state $|\\mathbf{x}\\rangle$"
   ]
  },
  {
   "cell_type": "code",
   "execution_count": 4,
   "metadata": {},
   "outputs": [
    {
     "name": "stdout",
     "output_type": "stream",
     "text": [
      "Hamiltonian Matrix:\n",
      " SparsePauliOp(['III', 'IIZ', 'IZI', 'ZZZ'],\n",
      "              coeffs=[ 1. +0.j,  2.5+0.j, -1.2+0.j,  3. +0.j])\n"
     ]
    }
   ],
   "source": [
    "\n",
    "def generate_hamiltonian_qiskit(a_x_dict):\n",
    "    \"\"\"\n",
    "    Generate the Hamiltonian using Qiskit operators.\n",
    "\n",
    "    Parameters:\n",
    "    - n (int): Number of qubits\n",
    "    - a_x_dict (dict): Mapping from binary states to coefficients\n",
    "\n",
    "    Returns:\n",
    "    - Hamiltonian as a SparsePauliOp\n",
    "    \"\"\"\n",
    "    pauli_terms = []\n",
    "    coefficients = []\n",
    "    \n",
    "    for x, a_x in a_x_dict.items():\n",
    "        # Convert binary state x to a string of I/Z operators\n",
    "        pauli_string = \"\".join(\"Z\" if bit else \"I\" for bit in x)  # 'IZZ' for (1,0,0)\n",
    "        pauli_terms.append(Pauli(pauli_string))\n",
    "        coefficients.append(a_x)\n",
    "\n",
    "    return SparsePauliOp(pauli_terms, coefficients)\n",
    "\n",
    "# Example usage\n",
    "n = 3  # Number of qubits\n",
    "a_x_dict = {\n",
    "    (0, 0, 0): 1.0,\n",
    "    (0, 0, 1): 2.5,\n",
    "    (0, 1, 0): -1.2,\n",
    "    (1, 1, 1): 3.0\n",
    "}  # Example coefficients\n",
    "\n",
    "H = generate_hamiltonian_qiskit( a_x_dict)\n",
    "print(\"Hamiltonian Matrix:\\n\", H)"
   ]
  },
  {
   "cell_type": "code",
   "execution_count": 5,
   "metadata": {},
   "outputs": [
    {
     "ename": "ModuleNotFoundError",
     "evalue": "No module named 'qiskit.opflow'",
     "output_type": "error",
     "traceback": [
      "\u001b[0;31m---------------------------------------------------------------------------\u001b[0m",
      "\u001b[0;31mModuleNotFoundError\u001b[0m                       Traceback (most recent call last)",
      "Cell \u001b[0;32mIn[5], line 1\u001b[0m\n\u001b[0;32m----> 1\u001b[0m \u001b[38;5;28;01mfrom\u001b[39;00m \u001b[38;5;21;01mqiskit\u001b[39;00m\u001b[38;5;21;01m.\u001b[39;00m\u001b[38;5;21;01mopflow\u001b[39;00m \u001b[38;5;28;01mimport\u001b[39;00m I, Z, PauliSumOp\n\u001b[1;32m      2\u001b[0m \u001b[38;5;28;01mimport\u001b[39;00m \u001b[38;5;21;01mnumpy\u001b[39;00m \u001b[38;5;28;01mas\u001b[39;00m \u001b[38;5;21;01mnp\u001b[39;00m\n\u001b[1;32m      4\u001b[0m \u001b[38;5;66;03m# Define the number of qubits\u001b[39;00m\n",
      "\u001b[0;31mModuleNotFoundError\u001b[0m: No module named 'qiskit.opflow'"
     ]
    }
   ],
   "source": [
    "from qiskit.opflow import I, Z, PauliSumOp\n",
    "import numpy as np\n",
    "\n",
    "# Define the number of qubits\n",
    "n = 3  # Example with 3 qubits\n",
    "weights = np.array([1.2, -0.8, 0.5])  # Example weight values\n",
    "\n",
    "# Construct the Hamiltonian\n",
    "H = sum((weights[i] / 2) * (Z ^ I ^ I if i == 0 else\n",
    "                            I ^ Z ^ I if i == 1 else\n",
    "                            I ^ I ^ Z) \n",
    "        for i in range(n))\n",
    "\n",
    "# Display the Hamiltonian\n",
    "print(\"Hamiltonian:\\n\", H)\n"
   ]
  }
 ],
 "metadata": {
  "kernelspec": {
   "display_name": "base",
   "language": "python",
   "name": "python3"
  },
  "language_info": {
   "codemirror_mode": {
    "name": "ipython",
    "version": 3
   },
   "file_extension": ".py",
   "mimetype": "text/x-python",
   "name": "python",
   "nbconvert_exporter": "python",
   "pygments_lexer": "ipython3",
   "version": "3.11.5"
  }
 },
 "nbformat": 4,
 "nbformat_minor": 2
}
