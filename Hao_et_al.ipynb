{
 "cells": [
  {
   "cell_type": "markdown",
   "metadata": {},
   "source": [
    "$$\\hat{H} = \\sum_{\\mathbf{x}\\in\\{0,1\\}^n} a_\\mathbf{x}|\\mathbf{x}\\rangle\\langle\\mathbf{x}|$$"
   ]
  },
  {
   "cell_type": "code",
   "execution_count": 2,
   "metadata": {},
   "outputs": [
    {
     "name": "stdout",
     "output_type": "stream",
     "text": [
      "Hamiltonian Matrix:\n",
      " SparsePauliOp(['III', 'IIZ', 'IZI', 'ZZZ'],\n",
      "              coeffs=[ 1. +0.j,  2.5+0.j, -1.2+0.j,  3. +0.j])\n"
     ]
    }
   ],
   "source": [
    "from qiskit.quantum_info import Pauli, SparsePauliOp\n",
    "\n",
    "def generate_hamiltonian_qiskit(n, a_x_dict):\n",
    "    \"\"\"\n",
    "    Generate the Hamiltonian using Qiskit operators.\n",
    "\n",
    "    Parameters:\n",
    "    - n (int): Number of qubits\n",
    "    - a_x_dict (dict): Mapping from binary states to coefficients\n",
    "\n",
    "    Returns:\n",
    "    - Hamiltonian as a SparsePauliOp\n",
    "    \"\"\"\n",
    "    pauli_terms = []\n",
    "    coefficients = []\n",
    "    \n",
    "    for x, a_x in a_x_dict.items():\n",
    "        # Convert binary state x to a string of I/Z operators\n",
    "        pauli_string = \"\".join(\"Z\" if bit else \"I\" for bit in x)  # 'IZZ' for (1,0,0)\n",
    "        pauli_terms.append(Pauli(pauli_string))\n",
    "        coefficients.append(a_x)\n",
    "\n",
    "    return SparsePauliOp(pauli_terms, coefficients)\n",
    "\n",
    "# Example usage\n",
    "n = 3  # Number of qubits\n",
    "a_x_dict = {\n",
    "    (0, 0, 0): 1.0,\n",
    "    (0, 0, 1): 2.5,\n",
    "    (0, 1, 0): -1.2,\n",
    "    (1, 1, 1): 3.0\n",
    "}  # Example coefficients\n",
    "\n",
    "H = generate_hamiltonian_qiskit(n, a_x_dict)\n",
    "print(\"Hamiltonian Matrix:\\n\", H)"
   ]
  }
 ],
 "metadata": {
  "kernelspec": {
   "display_name": "base",
   "language": "python",
   "name": "python3"
  },
  "language_info": {
   "codemirror_mode": {
    "name": "ipython",
    "version": 3
   },
   "file_extension": ".py",
   "mimetype": "text/x-python",
   "name": "python",
   "nbconvert_exporter": "python",
   "pygments_lexer": "ipython3",
   "version": "3.11.5"
  }
 },
 "nbformat": 4,
 "nbformat_minor": 2
}
