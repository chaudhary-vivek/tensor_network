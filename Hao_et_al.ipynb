{
 "cells": [
  {
   "cell_type": "code",
   "execution_count": 13,
   "metadata": {},
   "outputs": [],
   "source": [
    "from qiskit import QuantumCircuit\n",
    "from qiskit.opflow import I, Z, SummedOp\n",
    "import numpy as np\n",
    "\n",
    "# Define parameters\n",
    "n = 3  # Number of binary variables (qubits)\n",
    "w = np.array([1.0, 2.0, 3.0])  # Example weights"
   ]
  },
  {
   "cell_type": "markdown",
   "metadata": {},
   "source": [
    "\n",
    "### Equation (1): Hamiltonian Representation\n",
    "$$\n",
    "\\hat{H} = \\sum_{x \\in \\{0,1\\}^{\\otimes n}} a_x |x\\rangle \\langle x|\n",
    "$$"
   ]
  },
  {
   "cell_type": "code",
   "execution_count": 14,
   "metadata": {},
   "outputs": [],
   "source": [
    "# Equation (1): Hamiltonian in terms of basis states\n",
    "def hamiltonian_x(a_x_dict):\n",
    "    H = SummedOp([\n",
    "        a_x * I.tensorpower(n) for x, a_x in a_x_dict.items()\n",
    "    ])\n",
    "    return H"
   ]
  },
  {
   "cell_type": "markdown",
   "metadata": {},
   "source": [
    "### Equation (2): Quantum State Representation\n",
    "$$\n",
    "|\\Psi\\rangle = \\sum_{x \\in \\{0,1\\}^{\\otimes n}} b_x |x\\rangle\n",
    "$$"
   ]
  },
  {
   "cell_type": "code",
   "execution_count": 15,
   "metadata": {},
   "outputs": [],
   "source": [
    "# Equation (2): General quantum state representation\n",
    "def quantum_state(b_x_dict):\n",
    "    state = sum(b_x * I.tensorpower(n) for x, b_x in b_x_dict.items())\n",
    "    return state\n"
   ]
  },
  {
   "cell_type": "markdown",
   "metadata": {},
   "source": [
    "### Equation (3): Binary Linear Optimization Problem\n",
    "$$\n",
    "\\min{\\mathbf{w}^T \\mathbf{x} : \\mathbf{x} \\in \\{0,1\\}^{\\otimes n}\\}}\n",
    "$$"
   ]
  },
  {
   "cell_type": "code",
   "execution_count": 16,
   "metadata": {},
   "outputs": [],
   "source": [
    "# Equation (3): Binary linear optimization problem\n",
    "objective_function = lambda x: np.dot(w, x)"
   ]
  },
  {
   "cell_type": "markdown",
   "metadata": {},
   "source": [
    "### Equation (4): Hamiltonian Transformation\n",
    "$$\n",
    "\\hat{H} = \\sum_{i} \\frac{w_i}{2} (\\hat{Z}_i - \\hat{I})\n",
    "$$"
   ]
  },
  {
   "cell_type": "code",
   "execution_count": 18,
   "metadata": {},
   "outputs": [
    {
     "name": "stderr",
     "output_type": "stream",
     "text": [
      "/var/folders/tt/3h_jlt8571z664b95jr80v_40000gn/T/ipykernel_12139/2871409748.py:2: DeprecationWarning: The class ``qiskit.opflow.list_ops.summed_op.SummedOp`` is deprecated as of qiskit-terra 0.24.0. It will be removed no earlier than 3 months after the release date. For code migration guidelines, visit https://qisk.it/opflow_migration.\n",
      "  H_transformed = SummedOp([\n"
     ]
    }
   ],
   "source": [
    "# Equation (4): Hamiltonian transformation\n",
    "H_transformed = SummedOp([\n",
    "    (w[i] / 2) * (Z ^ I.tensorpower(i) ^ I.tensorpower(n - i - 1)) - (w[i] / 2) * I.tensorpower(n)\n",
    "    for i in range(n)\n",
    "])"
   ]
  }
 ],
 "metadata": {
  "kernelspec": {
   "display_name": "base",
   "language": "python",
   "name": "python3"
  },
  "language_info": {
   "codemirror_mode": {
    "name": "ipython",
    "version": 3
   },
   "file_extension": ".py",
   "mimetype": "text/x-python",
   "name": "python",
   "nbconvert_exporter": "python",
   "pygments_lexer": "ipython3",
   "version": "3.11.5"
  }
 },
 "nbformat": 4,
 "nbformat_minor": 2
}
