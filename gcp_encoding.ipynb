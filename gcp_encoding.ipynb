{
 "cells": [
  {
   "cell_type": "code",
   "execution_count": 15,
   "metadata": {},
   "outputs": [],
   "source": [
    "import numpy as np\n"
   ]
  },
  {
   "cell_type": "code",
   "execution_count": 16,
   "metadata": {},
   "outputs": [],
   "source": [
    "A = np.array([[0, 1, 0, 1, 1],\n",
    "         [1, 0, 0, 1, 0],\n",
    "         [0, 0, 0, 0, 1],\n",
    "         [1, 1, 0, 0, 0],\n",
    "         [1, 0, 1, 0, 0]])\n",
    "\n",
    "K = np.array([[1,0,0], \n",
    "                     [0,1,0],\n",
    "                     [1,0,0], \n",
    "                     [0,0,1], \n",
    "                     [0,1,0]])"
   ]
  },
  {
   "cell_type": "code",
   "execution_count": 17,
   "metadata": {},
   "outputs": [],
   "source": [
    "import numpy as np\n",
    "\n",
    "def encode(A, K):\n",
    "    n, k = K.shape\n",
    "    M = np.zeros_like(A, dtype=int)\n",
    "    \n",
    "    # Compute max indices per row in K\n",
    "    max_indices = np.argmax(K, axis=1)\n",
    "    \n",
    "    # Check how many ones exist in each row\n",
    "    row_sums = np.sum(K, axis=1)\n",
    "    \n",
    "    for i in range(n):\n",
    "        for j in range(i, n):  # Symmetric encoding\n",
    "            if A[i, j] == 1:\n",
    "                M[i, j] = 1  # Base encoding from A\n",
    "                \n",
    "                if max_indices[i] == max_indices[j]:  # Matching max index\n",
    "                    M[i, j] += 2\n",
    "                \n",
    "                if row_sums[i] > 1 and row_sums[j] > 1:  # Multiple ones in row\n",
    "                    M[i, j] += 4\n",
    "            \n",
    "            M[j, i] = M[i, j]  # Ensure symmetry\n",
    "    \n",
    "    return M\n",
    "\n",
    "def decode(A, M, k):\n",
    "    n = A.shape[0]\n",
    "    K = np.zeros((n, k), dtype=int)\n",
    "    \n",
    "    # Recover max indices and rows with multiple ones\n",
    "    for i in range(n):\n",
    "        for j in range(n):\n",
    "            if A[i, j] == 1:\n",
    "                if M[i, j] >= 3:  # Encodes max index agreement\n",
    "                    max_index = np.argmax(np.bincount(K[i, :], minlength=k))\n",
    "                    K[i, max_index] = 1\n",
    "                \n",
    "                if M[i, j] >= 5:  # Encodes multiple ones\n",
    "                    K[i, :] = 1  # Approximation (could refine further)\n",
    "    \n",
    "    return K\n"
   ]
  },
  {
   "cell_type": "code",
   "execution_count": 18,
   "metadata": {},
   "outputs": [
    {
     "name": "stdout",
     "output_type": "stream",
     "text": [
      "Encoded A:\n",
      " [[0 1 0 1 1]\n",
      " [1 0 0 1 0]\n",
      " [0 0 0 0 1]\n",
      " [1 1 0 0 0]\n",
      " [1 0 1 0 0]]\n",
      "Decoded K:\n",
      " [[0 0 0]\n",
      " [0 0 0]\n",
      " [0 0 0]\n",
      " [0 0 0]\n",
      " [0 0 0]]\n"
     ]
    }
   ],
   "source": [
    "encoded_A = encode(A, K)\n",
    "decoded_K = decode(A, encoded_A, 3)\n",
    "\n",
    "print(\"Encoded A:\\n\", encoded_A)\n",
    "print(\"Decoded K:\\n\", decoded_K)"
   ]
  }
 ],
 "metadata": {
  "kernelspec": {
   "display_name": "base",
   "language": "python",
   "name": "python3"
  },
  "language_info": {
   "codemirror_mode": {
    "name": "ipython",
    "version": 3
   },
   "file_extension": ".py",
   "mimetype": "text/x-python",
   "name": "python",
   "nbconvert_exporter": "python",
   "pygments_lexer": "ipython3",
   "version": "3.11.5"
  }
 },
 "nbformat": 4,
 "nbformat_minor": 2
}
